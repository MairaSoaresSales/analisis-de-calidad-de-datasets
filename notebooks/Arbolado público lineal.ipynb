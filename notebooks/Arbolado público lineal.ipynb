{
 "cells": [
  {
   "cell_type": "code",
   "execution_count": 1,
   "metadata": {},
   "outputs": [],
   "source": [
    "import pandas as pd\n",
    "import numpy as np\n",
    "import re\n",
    "import requests"
   ]
  },
  {
   "cell_type": "code",
   "execution_count": 2,
   "metadata": {},
   "outputs": [],
   "source": [
    "data=pd.read_csv('arbolado-publico-lineal.csv', encoding='utf-8')"
   ]
  },
  {
   "cell_type": "code",
   "execution_count": 6,
   "metadata": {},
   "outputs": [
    {
     "data": {
      "text/plain": [
       "Index(['LONGITUD', 'LATITUD', 'TIPO_SITIO', 'ID_ARBOL', 'ALTURA_TOT',\n",
       "       'DIAMETRO', 'INCLINACIO', 'ID_ESPECIE', 'NOMBRE_FAM', 'NOMBRE_GEN',\n",
       "       'NOMBRE_CIE', 'NOMBRE_COM', 'TIPO_FOLLA', 'ORIGEN', 'CODIGO_MAN',\n",
       "       'BARRIO', 'COMUNAS', 'CALLE', 'CHAPA1', 'CHAPA2'],\n",
       "      dtype='object')"
      ]
     },
     "execution_count": 6,
     "metadata": {},
     "output_type": "execute_result"
    }
   ],
   "source": [
    "data.columns"
   ]
  },
  {
   "cell_type": "code",
   "execution_count": 5,
   "metadata": {},
   "outputs": [],
   "source": [
    "data=data[['LONGITUD', 'LATITUD', 'TIPO_SITIO', 'ID_ARBOL', 'ALTURA_TOT', 'DIAMETRO', 'INCLINACIO',\n",
    "       'ID_ESPECIE', 'NOMBRE_FAM', 'NOMBRE_GEN', 'NOMBRE_CIE', 'NOMBRE_COM',\n",
    "       'TIPO_FOLLA', 'ORIGEN', 'CODIGO_MAN', 'BARRIO', 'COMUNAS', 'CALLE', 'CHAPA1',\n",
    "       'CHAPA2']]"
   ]
  },
  {
   "cell_type": "code",
   "execution_count": 8,
   "metadata": {},
   "outputs": [],
   "source": [
    "data.columns=['long', 'lat', 'tipo_sitio', 'id_arbol', 'altura_tot',\n",
    "       'diametro', 'inclinacio', 'id_especie', 'nombre_fam', 'nombre_gen',\n",
    "       'nombre_cie', 'nombre_com', 'tipo_folla', 'origen', 'codigo_man',\n",
    "       'barrio', 'comuna', 'calle', 'chapa1', 'chapa2']"
   ]
  },
  {
   "cell_type": "code",
   "execution_count": 10,
   "metadata": {},
   "outputs": [],
   "source": [
    "#Falta: Long calle, comuna y barrio."
   ]
  },
  {
   "cell_type": "code",
   "execution_count": 10,
   "metadata": {},
   "outputs": [],
   "source": [
    "data.to_csv('arbolado-publico-lineal-20180926.csv', index=False)"
   ]
  },
  {
   "cell_type": "code",
   "execution_count": null,
   "metadata": {},
   "outputs": [],
   "source": []
  }
 ],
 "metadata": {
  "kernelspec": {
   "display_name": "Python 3",
   "language": "python",
   "name": "python3"
  },
  "language_info": {
   "codemirror_mode": {
    "name": "ipython",
    "version": 3
   },
   "file_extension": ".py",
   "mimetype": "text/x-python",
   "name": "python",
   "nbconvert_exporter": "python",
   "pygments_lexer": "ipython3",
   "version": "3.6.5"
  }
 },
 "nbformat": 4,
 "nbformat_minor": 2
}
