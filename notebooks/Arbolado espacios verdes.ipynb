{
 "cells": [
  {
   "cell_type": "code",
   "execution_count": 2,
   "metadata": {},
   "outputs": [],
   "source": [
    "import pandas as pd\n",
    "import numpy as np\n",
    "import re\n",
    "import requests"
   ]
  },
  {
   "cell_type": "code",
   "execution_count": 3,
   "metadata": {},
   "outputs": [],
   "source": [
    "data=pd.read_csv('arbolado-de-espacios-verdes.csv', encoding='utf-8')"
   ]
  },
  {
   "cell_type": "code",
   "execution_count": 6,
   "metadata": {},
   "outputs": [],
   "source": [
    "data=data[['LONGITUD', 'LATITUD', 'id_arbol', 'altura_tot', 'diametro', 'inclinacio', 'id_especie',\n",
    "       'nombre_com', 'nombre_cie', 'tipo_folla', 'Espacio_ve', 'ubicacion', 'nombre_fam', 'nombre_gen', 'origen', 'coord_x', 'coord_y']]"
   ]
  },
  {
   "cell_type": "code",
   "execution_count": 8,
   "metadata": {},
   "outputs": [],
   "source": [
    "data.columns=['long', 'lat', 'id_arbol', 'altura_tot', 'diametro',\n",
    "       'inclinacio', 'id_especie', 'nombre_com', 'nombre_cie', 'tipo_folla',\n",
    "       'espacio_ve', 'ubicacion', 'nombre_fam', 'nombre_gen', 'origen',\n",
    "       'coord_x', 'coord_y']"
   ]
  },
  {
   "cell_type": "code",
   "execution_count": 9,
   "metadata": {},
   "outputs": [],
   "source": [
    "data.to_csv('arbolado-de-espacios-verdes-20180924.csv', index=False)"
   ]
  }
 ],
 "metadata": {
  "kernelspec": {
   "display_name": "Python 3",
   "language": "python",
   "name": "python3"
  },
  "language_info": {
   "codemirror_mode": {
    "name": "ipython",
    "version": 3
   },
   "file_extension": ".py",
   "mimetype": "text/x-python",
   "name": "python",
   "nbconvert_exporter": "python",
   "pygments_lexer": "ipython3",
   "version": "3.6.5"
  }
 },
 "nbformat": 4,
 "nbformat_minor": 2
}
