{
 "cells": [
  {
   "cell_type": "code",
   "execution_count": 1,
   "metadata": {},
   "outputs": [],
   "source": [
    "import pandas as pd\n",
    "import numpy as np\n",
    "import re\n",
    "import requests"
   ]
  },
  {
   "cell_type": "code",
   "execution_count": 2,
   "metadata": {},
   "outputs": [],
   "source": [
    "data=pd.read_csv('estaciones_de_bicicletas.csv')"
   ]
  },
  {
   "cell_type": "code",
   "execution_count": 5,
   "metadata": {},
   "outputs": [],
   "source": [
    "data.WKT.str.replace('POINT', '')\n",
    "data.WKT.str.split(' ', expand=True)\n",
    "\n",
    "data['long']=data.WKT.str.split(' ', expand=True)[1]\n",
    "data['lat']=data.WKT.str.split(' ', expand=True)[2]\n",
    "\n",
    "data.long=data.long.str.strip(\"(\")\n",
    "data.lat=data.lat.str.strip(\")\")"
   ]
  },
  {
   "cell_type": "code",
   "execution_count": 8,
   "metadata": {},
   "outputs": [],
   "source": [
    "data=data[['long', 'lat','NOMBRE', 'DOMICILIO', 'IMAGEN', 'AUTOMAT', 'OBSERV', 'NRO_EST',\n",
    "       'Horario', 'DIRE_NORM' ]]"
   ]
  },
  {
   "cell_type": "code",
   "execution_count": 11,
   "metadata": {},
   "outputs": [],
   "source": [
    "data.columns=['long', 'lat', 'nombre', 'domicilio', 'imagen', 'automat', 'observ',\n",
    "       'nro_est', 'horario', 'dire_norm']"
   ]
  },
  {
   "cell_type": "code",
   "execution_count": 13,
   "metadata": {},
   "outputs": [],
   "source": [
    "data.to_csv('estaciones-de-bicicletas-20180911.csv', index=False)"
   ]
  }
 ],
 "metadata": {
  "kernelspec": {
   "display_name": "Python 3",
   "language": "python",
   "name": "python3"
  },
  "language_info": {
   "codemirror_mode": {
    "name": "ipython",
    "version": 3
   },
   "file_extension": ".py",
   "mimetype": "text/x-python",
   "name": "python",
   "nbconvert_exporter": "python",
   "pygments_lexer": "ipython3",
   "version": "3.6.5"
  }
 },
 "nbformat": 4,
 "nbformat_minor": 2
}
