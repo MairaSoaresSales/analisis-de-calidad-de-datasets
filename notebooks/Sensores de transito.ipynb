{
 "cells": [
  {
   "cell_type": "code",
   "execution_count": 1,
   "metadata": {},
   "outputs": [],
   "source": [
    "import pandas as pd\n",
    "import numpy as np\n",
    "import re\n",
    "import requests"
   ]
  },
  {
   "cell_type": "code",
   "execution_count": 2,
   "metadata": {},
   "outputs": [],
   "source": [
    "data=pd.read_csv('sensores-de-transito.csv')"
   ]
  },
  {
   "cell_type": "code",
   "execution_count": 7,
   "metadata": {},
   "outputs": [],
   "source": [
    "data['UBICACION']=data['UBICACION'].str.replace('Ã‘', 'Ñ')\n",
    "data['UBICACION_']=data['UBICACION_'].str.replace('Ã‘', 'Ñ')\n",
    "data['DIRECCION_']=data['DIRECCION_'].str.replace('Ã‘', 'Ñ')\n",
    "data['CALLE']=data['CALLE'].str.replace('Ã‘', 'Ñ')\n",
    "data['BARRIO']=data['BARRIO'].str.replace('Ã‘', 'Ñ')"
   ]
  },
  {
   "cell_type": "code",
   "execution_count": 8,
   "metadata": {},
   "outputs": [],
   "source": [
    "data['CRUCE']=data['CRUCE'].str.replace('Ã‘', 'Ñ')"
   ]
  },
  {
   "cell_type": "code",
   "execution_count": 11,
   "metadata": {},
   "outputs": [],
   "source": [
    "data.columns=['WKT', 'long', 'lat', 'id_sensor', 'sistema_co', 'ubicacion', 'ubicacion_',\n",
    "       'año_insta', 'direccion_', 'calle', 'cruce', 'barrio', 'comuna']"
   ]
  },
  {
   "cell_type": "code",
   "execution_count": 13,
   "metadata": {},
   "outputs": [],
   "source": [
    "data=data[['long', 'lat', 'id_sensor', 'sistema_co', 'ubicacion', 'ubicacion_',\n",
    "       'año_insta', 'direccion_', 'calle', 'cruce', 'barrio', 'comuna']]"
   ]
  },
  {
   "cell_type": "code",
   "execution_count": 15,
   "metadata": {},
   "outputs": [],
   "source": [
    "data.to_csv('sensores-de-transito-20180921.csv', index=False)"
   ]
  }
 ],
 "metadata": {
  "kernelspec": {
   "display_name": "Python 3",
   "language": "python",
   "name": "python3"
  },
  "language_info": {
   "codemirror_mode": {
    "name": "ipython",
    "version": 3
   },
   "file_extension": ".py",
   "mimetype": "text/x-python",
   "name": "python",
   "nbconvert_exporter": "python",
   "pygments_lexer": "ipython3",
   "version": "3.6.5"
  }
 },
 "nbformat": 4,
 "nbformat_minor": 2
}
